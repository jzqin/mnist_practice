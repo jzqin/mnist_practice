{
 "cells": [
  {
   "cell_type": "code",
   "execution_count": 1,
   "metadata": {},
   "outputs": [],
   "source": [
    "import numpy as np\n",
    "import os\n",
    "from code.layer import Layer\n",
    "from code.ffn import FFN\n",
    "from code import helper_functions as hf"
   ]
  },
  {
   "cell_type": "code",
   "execution_count": 3,
   "metadata": {},
   "outputs": [],
   "source": [
    "data_dir = '/Users/jqin/Documents/Adulting/Studying/mnist_practice/data'\n",
    "train_data_file = 'train-images.idx3-ubyte'\n",
    "train_labels_file = 'train-labels.idx1-ubyte'\n",
    "test_data_file = 't10k-images.idx3-ubyte'\n",
    "test_labels_file = 't10k-labels.idx1-ubyte'\n",
    "\n",
    "train_data, train_labels = hf.load_data(data_dir, train_data_file, train_labels_file)\n",
    "test_data, test_labels = hf.load_data(data_dir, test_data_file, test_labels_file)"
   ]
  },
  {
   "cell_type": "code",
   "execution_count": 4,
   "metadata": {},
   "outputs": [
    {
     "name": "stdout",
     "output_type": "stream",
     "text": [
      "Loss on epoch 0 is 2.374275588892619\n",
      "Loss on epoch 10 is 2.522475631521113\n",
      "Loss on epoch 20 is 2.5864305919799317\n",
      "Loss on epoch 30 is 2.4886264061121377\n",
      "Loss on epoch 40 is 2.6011171363772143\n"
     ]
    }
   ],
   "source": [
    "batch_size = 100\n",
    "n_train = train_labels.shape[0]\n",
    "n_feat = 28*28\n",
    "n_hidden = 100\n",
    "n_out = 10\n",
    "\n",
    "for epoch in range(50):\n",
    "    start_idx = (epoch * batch_size) % n_train\n",
    "    end_idx = min(n_train, start_idx + batch_size)\n",
    "    # start_idx = 0\n",
    "    # end_idx = 50\n",
    "    \n",
    "    batch_data = train_data[start_idx:end_idx]\n",
    "    batch_labels = train_labels[start_idx:end_idx]\n",
    "\n",
    "    ffn = FFN(3, 50, n_feat, n_out)\n",
    "    loss, dloss = ffn.forward_pass(batch_data, batch_labels)\n",
    "    loss = np.sum(loss) / batch_size\n",
    "    if (epoch % 10 == 0):\n",
    "        print('Loss on epoch {} is {}'.format(epoch, np.sum(loss)))\n",
    "    ffn.backward_pass(batch_data, dloss)"
   ]
  },
  {
   "cell_type": "code",
   "execution_count": null,
   "metadata": {},
   "outputs": [],
   "source": []
  }
 ],
 "metadata": {
  "kernelspec": {
   "display_name": "Python 3",
   "language": "python",
   "name": "python3"
  },
  "language_info": {
   "codemirror_mode": {
    "name": "ipython",
    "version": 3
   },
   "file_extension": ".py",
   "mimetype": "text/x-python",
   "name": "python",
   "nbconvert_exporter": "python",
   "pygments_lexer": "ipython3",
   "version": "3.7.9"
  }
 },
 "nbformat": 4,
 "nbformat_minor": 4
}
